{
 "cells": [
  {
   "cell_type": "code",
   "execution_count": 1,
   "metadata": {
    "id": "-E2BtEsBBE2T"
   },
   "outputs": [],
   "source": [
    "import numpy as np"
   ]
  },
  {
   "cell_type": "code",
   "execution_count": 2,
   "metadata": {
    "id": "QL8L5YzjBE2U"
   },
   "outputs": [],
   "source": [
    "def predict(activation):\n",
    "    if activation >=0:\n",
    "        return 1\n",
    "    else:\n",
    "        return 0"
   ]
  },
  {
   "cell_type": "code",
   "execution_count": 3,
   "metadata": {
    "id": "FH82M09qBE2V"
   },
   "outputs": [],
   "source": [
    "def perceptron(x, w, b):\n",
    "    activation = np.dot(w, x) + b\n",
    "    y = predict(activation)\n",
    "    return y"
   ]
  },
  {
   "cell_type": "code",
   "execution_count": 4,
   "metadata": {
    "id": "Zk0vvURRBE2W"
   },
   "outputs": [],
   "source": [
    "def NOT(x):    \n",
    "    w = -1\n",
    "    b = 0.5\n",
    "    return perceptron(x, w, b)"
   ]
  },
  {
   "cell_type": "code",
   "execution_count": 5,
   "metadata": {
    "id": "M3vNBXQzBE2W"
   },
   "outputs": [],
   "source": [
    "def AND(x):\n",
    "    w = np.array([1, 1])\n",
    "    b = -1.5\n",
    "    return perceptron(x, w, b)"
   ]
  },
  {
   "cell_type": "code",
   "execution_count": 6,
   "metadata": {
    "id": "F-XBsu-9BE2X"
   },
   "outputs": [],
   "source": [
    "def OR(x):\n",
    "    w = np.array([1, 1])\n",
    "    b = -0.5\n",
    "    return perceptron(x, w, b)"
   ]
  },
  {
   "cell_type": "code",
   "execution_count": 7,
   "metadata": {
    "id": "RVu34HYRBE2X"
   },
   "outputs": [],
   "source": [
    "def XOR(x):\n",
    "    A = NOT(AND(x))\n",
    "    B = OR(x)\n",
    "    X = np.array([A, B])\n",
    "    y = AND(X)\n",
    "    return y"
   ]
  },
  {
   "cell_type": "code",
   "execution_count": 8,
   "metadata": {
    "id": "F1z58QYVBE2Y"
   },
   "outputs": [],
   "source": [
    "def main():\n",
    "    examples = [[1,1],[1,0],[0,1],[0,0]]\n",
    "    print(\"\\n##### Output #####\\n\")\n",
    "    for example in examples:\n",
    "        x = np.array(example)\n",
    "        print(f\"\\nNOT({example[0]}): {NOT(example[0])}\")\n",
    "        print(f\"AND({example}): {AND(x)}\")\n",
    "        print(f\"OR({example}): {OR(x)}\")\n",
    "        print(f\"XOR({example}): {XOR(x)}\")"
   ]
  },
  {
   "cell_type": "code",
   "execution_count": 9,
   "metadata": {
    "id": "8Wi23IKqBE2Y",
    "outputId": "5677fdd3-c87b-4e90-883c-9b66c48c3e31"
   },
   "outputs": [
    {
     "name": "stdout",
     "output_type": "stream",
     "text": [
      "\n",
      "##### Output #####\n",
      "\n",
      "\n",
      "NOT(1): 0\n",
      "AND([1, 1]): 1\n",
      "OR([1, 1]): 1\n",
      "XOR([1, 1]): 0\n",
      "\n",
      "NOT(1): 0\n",
      "AND([1, 0]): 0\n",
      "OR([1, 0]): 1\n",
      "XOR([1, 0]): 1\n",
      "\n",
      "NOT(0): 1\n",
      "AND([0, 1]): 0\n",
      "OR([0, 1]): 1\n",
      "XOR([0, 1]): 1\n",
      "\n",
      "NOT(0): 1\n",
      "AND([0, 0]): 0\n",
      "OR([0, 0]): 0\n",
      "XOR([0, 0]): 0\n"
     ]
    }
   ],
   "source": [
    "main()"
   ]
  },
  {
   "cell_type": "code",
   "execution_count": null,
   "metadata": {
    "id": "PPDi4twKBE2Z"
   },
   "outputs": [],
   "source": []
  }
 ],
 "metadata": {
  "colab": {
   "collapsed_sections": [],
   "name": "BE1_P1_LP4_41118_SCOA_A5.ipynb",
   "provenance": []
  },
  "kernelspec": {
   "display_name": "Python 3",
   "language": "python",
   "name": "python3"
  },
  "language_info": {
   "codemirror_mode": {
    "name": "ipython",
    "version": 3
   },
   "file_extension": ".py",
   "mimetype": "text/x-python",
   "name": "python",
   "nbconvert_exporter": "python",
   "pygments_lexer": "ipython3",
   "version": "3.7.6"
  }
 },
 "nbformat": 4,
 "nbformat_minor": 1
}
