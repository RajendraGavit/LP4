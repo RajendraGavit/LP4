{
 "cells": [
  {
   "cell_type": "code",
   "execution_count": 1,
   "metadata": {
    "id": "2fa8112f"
   },
   "outputs": [],
   "source": [
    "import numpy as np\n",
    "import random\n",
    "import matplotlib.pyplot as plt"
   ]
  },
  {
   "cell_type": "code",
   "execution_count": 2,
   "metadata": {
    "id": "4d558a96"
   },
   "outputs": [],
   "source": [
    "class Particle:\n",
    "    def __init__(self, position, velocities):\n",
    "        self.position = position\n",
    "        self.velocities = velocities\n",
    "        self.fitness = 0\n",
    "        self.best_position = self.position\n",
    "        self.best_fitness = self.fitness\n",
    "        self.is_best = True\n",
    "\n",
    "    # Evaluate fitness of the particle and set best fitness and position(local max)\n",
    "    def evaluate_fitness(self):\n",
    "        self.fitness = 0\n",
    "        for i in range(0,len(self.position)-1):\n",
    "            self.fitness += 100*(self.position[i+1] - self.position[i])**2 + (self.position[i] - 1)**2\n",
    "        if self.fitness > self.best_fitness:\n",
    "            self.best_fitness = self.fitness\n",
    "            self.best_position = self.position\n",
    "            self.is_best = True\n",
    "        else:\n",
    "            self.is_best = False"
   ]
  },
  {
   "cell_type": "code",
   "execution_count": 3,
   "metadata": {
    "id": "3da885bf"
   },
   "outputs": [],
   "source": [
    "class Swarm:\n",
    "    def __init__(self, options):\n",
    "        self.dimension = 0\n",
    "        self.n_particles = 0\n",
    "        self.population = []\n",
    "        self.best_particle = None\n",
    "        self.options = options\n",
    "        self.fitness_graph = []\n",
    "        self.generate_population()\n",
    "\n",
    "    # Generate initial swarm population\n",
    "    def generate_population(self):\n",
    "        self.n_particles = int(input(\"Enter swarm size: \"))\n",
    "        self.dimension = int(input(\"Enter dimension: \"))\n",
    "        print(f\"\\nSwarm Size: {self.n_particles}\\nDimension: {self.dimension}\")\n",
    "        self.population = []\n",
    "        for i in range(self.n_particles): \n",
    "            position = np.random.standard_normal(size=self.dimension).tolist()\n",
    "            velocities = [0] * self.dimension\n",
    "            self.population.append(Particle(position, velocities))\n",
    "        self.best_particle = random.choice(self.population)\n",
    "\n",
    "    # Evaluate Fitness of the swarm and set best pasition of the swarm (global max)\n",
    "    def evaluate_fitness(self):\n",
    "        for particle in self.population:\n",
    "            particle.evaluate_fitness()\n",
    "            if particle.is_best:\n",
    "                if particle.fitness > self.best_particle.fitness:\n",
    "                    self.best_particle = particle\n",
    "        self.fitness_graph.append(self.best_particle.fitness)\n",
    "        print(f\"\\nGlobal Best Particle: {self.best_particle.position}, Fitness: {self.best_particle.fitness}\")\n",
    "    \n",
    "    # Update velocity and position of the particles in the swarm\n",
    "    def update_swarm(self):\n",
    "        global_best_position = self.best_particle.position\n",
    "        r1 = random.uniform(0, 1)\n",
    "        r2 = random.uniform(0, 1)\n",
    "        for particle in self.population:\n",
    "            for i, velocity in enumerate(particle.velocities):\n",
    "                cognitive_component = self.options['c1']*r1*(particle.best_position[i]-particle.position[i])\n",
    "                social_component = self.options['c2']*r2*(global_best_position[i]-particle.position[i])\n",
    "                velocity = self.options['w']*velocity + cognitive_component + social_component\n",
    "                particle.position[i] = particle.position[i] + velocity\n",
    "\n",
    "    def damp_weight(self):\n",
    "        if self.options['w'] > 0.4:\n",
    "            self.options['w'] = self.options['w']*self.options['w_damp']\n",
    "                \n",
    "    # Check for termination\n",
    "    def terminate(self):\n",
    "        if len(self.fitness_graph) > 5:\n",
    "            if len(set(self.fitness_graph[-5:])) == 1:\n",
    "                return True\n",
    "        return False\n",
    "            \n",
    "    # Plotting graph to show fitness trend\n",
    "    def plot_graph(self):\n",
    "        plt.plot(self.fitness_graph)\n",
    "        plt.xlabel(\"Number of Iterations\")\n",
    "        plt.ylabel(\"Best particle fitness\")"
   ]
  },
  {
   "cell_type": "code",
   "execution_count": 4,
   "metadata": {
    "id": "dec88aa3"
   },
   "outputs": [],
   "source": [
    "def optimize(max_iter=100):\n",
    "    options = {'c1': 2, 'c2': 2, 'w':0.9, 'w_damp':0.99}\n",
    "    swarm = Swarm(options)\n",
    "    for i in range(max_iter):\n",
    "        swarm.evaluate_fitness()\n",
    "        swarm.update_swarm()\n",
    "        swarm.damp_weight()\n",
    "        if swarm.terminate():\n",
    "            break\n",
    "    print(f\"Total Iterations: {i}\")\n",
    "    swarm.plot_graph()"
   ]
  },
  {
   "cell_type": "code",
   "execution_count": 5,
   "metadata": {
    "id": "244d998d",
    "outputId": "b230cf78-3ae3-4a3f-91ca-5dd0670fff46"
   },
   "outputs": [
    {
     "name": "stdout",
     "output_type": "stream",
     "text": [
      "Enter swarm size: 10\n",
      "Enter dimension: 10\n",
      "\n",
      "Swarm Size: 10\n",
      "Dimension: 10\n",
      "\n",
      "Global Best Particle: [-1.4373314154769283, 1.6419177977526698, 0.37558995942715667, 1.2876558743707425, 0.06150545082895592, 1.7162247602936616, -1.984909836326678, 0.6637343243155169, -1.4296928368012067, 1.477153888650815], Fitness: 4993.612730725556\n",
      "\n",
      "Global Best Particle: [-1.4373314154769283, 1.6419177977526698, 0.37558995942715667, 1.2876558743707425, 0.06150545082895592, 1.7162247602936616, -1.984909836326678, 0.6637343243155169, -1.4296928368012067, 1.477153888650815], Fitness: 4993.612730725556\n",
      "\n",
      "Global Best Particle: [-2.02442759624613, 2.471372994424139, 1.0480239944109893, 1.4500758948212762, 0.6749586932104439, 3.214730252341353, -2.7944726712788226, 0.6121203390145755, -2.4787914956956074, 1.885688123191816], Fitness: 10620.063254585226\n",
      "\n",
      "Global Best Particle: [-2.02442759624613, 2.471372994424139, 1.0480239944109893, 1.4500758948212762, 0.6749586932104439, 3.214730252341353, -2.7944726712788226, 0.6121203390145755, -2.4787914956956074, 1.885688123191816], Fitness: 10620.063254585226\n",
      "\n",
      "Global Best Particle: [-2.2425294586888525, 2.7795094278273047, 1.2978282346765257, 1.5104137238152147, 0.9028520079133829, 3.7714138919249853, -3.095219240326739, 0.5929461275464004, -2.8685238408988214, 2.0374555513298502], Fitness: 13339.906771820744\n",
      "\n",
      "Global Best Particle: [-2.2425294586888525, 2.7795094278273047, 1.2978282346765257, 1.5104137238152147, 0.9028520079133829, 3.7714138919249853, -3.095219240326739, 0.5929461275464004, -2.8685238408988214, 2.0374555513298502], Fitness: 13339.906771820744\n",
      "\n",
      "Global Best Particle: [-2.367232472825708, 2.955691059567595, 1.440657559270031, 1.544912783372738, 1.0331534318755868, 4.0897061201492395, -3.267175606180526, 0.5819829842838946, -3.09135916018102, 2.124230856797871], Fitness: 15048.291708366842\n",
      "\n",
      "Global Best Particle: [-2.435982446524764, 3.0528216913509527, 1.519400742642335, 1.5639324474413143, 1.104989862874118, 4.2651836935703304, -3.361976808153552, 0.5759388977301478, -3.2142104195985275, 2.172070919124727], Fitness: 16037.826837520062\n",
      "\n",
      "Global Best Particle: [-2.459259027913989, 3.0857070720201714, 1.5460607109011637, 1.5703719082129775, 1.1293114217472633, 4.324594887494553, -3.3940735170654834, 0.5738925598914216, -3.2558039967992665, 2.1882680613853354], Fitness: 16380.532603189877\n",
      "\n",
      "Global Best Particle: [-2.471889367277915, 3.1035513383674793, 1.5605269437602713, 1.5738660886300573, 1.1425087868281052, 4.356832591508352, -3.4114898343177456, 0.5727821759856339, -3.278373505036768, 2.1970569552549466], Fitness: 16568.117676941853\n",
      "\n",
      "Global Best Particle: [-2.471889367277915, 3.1035513383674793, 1.5605269437602713, 1.5738660886300573, 1.1425087868281052, 4.356832591508352, -3.4114898343177456, 0.5727821759856339, -3.278373505036768, 2.1970569552549466], Fitness: 16568.117676941853\n",
      "\n",
      "Global Best Particle: [-2.4743270826613175, 3.1069953663802656, 1.5633189952930469, 1.574540482018047, 1.145055940863398, 4.363054621236584, -3.4148512661260875, 0.5725678666269833, -3.2827295271388754, 2.1987532534439116], Fitness: 16604.45418492056\n",
      "\n",
      "Global Best Particle: [-2.4743270826613175, 3.1069953663802656, 1.5633189952930469, 1.574540482018047, 1.145055940863398, 4.363054621236584, -3.4148512661260875, 0.5725678666269833, -3.2827295271388754, 2.1987532534439116], Fitness: 16604.45418492056\n",
      "\n",
      "Global Best Particle: [-2.4743270826613175, 3.1069953663802656, 1.5633189952930469, 1.574540482018047, 1.145055940863398, 4.363054621236584, -3.4148512661260875, 0.5725678666269833, -3.2827295271388754, 2.1987532534439116], Fitness: 16604.45418492056\n",
      "\n",
      "Global Best Particle: [-2.4743270826613175, 3.1069953663802656, 1.5633189952930469, 1.574540482018047, 1.145055940863398, 4.363054621236584, -3.4148512661260875, 0.5725678666269833, -3.2827295271388754, 2.1987532534439116], Fitness: 16604.45418492056\n",
      "\n",
      "Global Best Particle: [-2.4743270826613175, 3.1069953663802656, 1.5633189952930469, 1.574540482018047, 1.145055940863398, 4.363054621236584, -3.4148512661260875, 0.5725678666269833, -3.2827295271388754, 2.1987532534439116], Fitness: 16604.45418492056\n",
      "Total Iterations: 15\n"
     ]
    },
    {
     "data": {
      "image/png": "[encoded data removed]",
      "text/plain": [
       "<Figure size 432x288 with 1 Axes>"
      ]
     },
     "metadata": {
      "needs_background": "light"
     },
     "output_type": "display_data"
    }
   ],
   "source": [
    "optimize()"
   ]
  }
 ],
 "metadata": {
  "colab": {
   "name": "BE1_P1_LP4_41118_SCOA_A3.ipynb",
   "provenance": []
  },
  "kernelspec": {
   "display_name": "Python 3",
   "language": "python",
   "name": "python3"
  },
  "language_info": {
   "codemirror_mode": {
    "name": "ipython",
    "version": 3
   },
   "file_extension": ".py",
   "mimetype": "text/x-python",
   "name": "python",
   "nbconvert_exporter": "python",
   "pygments_lexer": "ipython3",
   "version": "3.7.6"
  }
 },
 "nbformat": 4,
 "nbformat_minor": 5
}
